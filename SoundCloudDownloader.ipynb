{
  "nbformat": 4,
  "nbformat_minor": 0,
  "metadata": {
    "colab": {
      "provenance": [],
      "authorship_tag": "ABX9TyNEI9FZKzn7FlrGQJOMQVFv",
      "include_colab_link": true
    },
    "kernelspec": {
      "name": "python3",
      "display_name": "Python 3"
    },
    "language_info": {
      "name": "python"
    }
  },
  "cells": [
    {
      "cell_type": "markdown",
      "metadata": {
        "id": "view-in-github",
        "colab_type": "text"
      },
      "source": [
        "<a href=\"https://colab.research.google.com/github/Khagendra-12/SoundCloudDownloader/blob/main/SoundCloudDownloader.ipynb\" target=\"_parent\"><img src=\"https://colab.research.google.com/assets/colab-badge.svg\" alt=\"Open In Colab\"/></a>"
      ]
    },
    {
      "cell_type": "code",
      "source": [
        "!pip install scdl"
      ],
      "metadata": {
        "colab": {
          "base_uri": "https://localhost:8080/"
        },
        "id": "kl57zBiU4nhN",
        "outputId": "cc9c19af-3b52-4ecb-c96a-a4eed10d2a70",
        "collapsed": true
      },
      "execution_count": null,
      "outputs": [
        {
          "output_type": "stream",
          "name": "stdout",
          "text": [
            "Requirement already satisfied: scdl in /usr/local/lib/python3.11/dist-packages (2.12.4)\n",
            "Requirement already satisfied: docopt-ng in /usr/local/lib/python3.11/dist-packages (from scdl) (0.9.0)\n",
            "Requirement already satisfied: mutagen>=1.45.0 in /usr/local/lib/python3.11/dist-packages (from scdl) (1.47.0)\n",
            "Requirement already satisfied: termcolor in /usr/local/lib/python3.11/dist-packages (from scdl) (3.1.0)\n",
            "Requirement already satisfied: requests in /usr/local/lib/python3.11/dist-packages (from scdl) (2.32.3)\n",
            "Requirement already satisfied: tqdm in /usr/local/lib/python3.11/dist-packages (from scdl) (4.67.1)\n",
            "Requirement already satisfied: pathvalidate in /usr/local/lib/python3.11/dist-packages (from scdl) (3.3.1)\n",
            "Requirement already satisfied: soundcloud-v2>=1.5.2 in /usr/local/lib/python3.11/dist-packages (from scdl) (1.6.0)\n",
            "Requirement already satisfied: filelock>=3.0.0 in /usr/local/lib/python3.11/dist-packages (from scdl) (3.18.0)\n",
            "Requirement already satisfied: dacite>=1.8.1 in /usr/local/lib/python3.11/dist-packages (from soundcloud-v2>=1.5.2->scdl) (1.9.2)\n",
            "Requirement already satisfied: python-dateutil>=2.8.2 in /usr/local/lib/python3.11/dist-packages (from soundcloud-v2>=1.5.2->scdl) (2.9.0.post0)\n",
            "Requirement already satisfied: charset-normalizer<4,>=2 in /usr/local/lib/python3.11/dist-packages (from requests->scdl) (3.4.2)\n",
            "Requirement already satisfied: idna<4,>=2.5 in /usr/local/lib/python3.11/dist-packages (from requests->scdl) (3.10)\n",
            "Requirement already satisfied: urllib3<3,>=1.21.1 in /usr/local/lib/python3.11/dist-packages (from requests->scdl) (2.4.0)\n",
            "Requirement already satisfied: certifi>=2017.4.17 in /usr/local/lib/python3.11/dist-packages (from requests->scdl) (2025.6.15)\n",
            "Requirement already satisfied: six>=1.5 in /usr/local/lib/python3.11/dist-packages (from python-dateutil>=2.8.2->soundcloud-v2>=1.5.2->scdl) (1.17.0)\n"
          ]
        }
      ]
    },
    {
      "cell_type": "code",
      "execution_count": null,
      "metadata": {
        "id": "McSaZy4u4hD7"
      },
      "outputs": [],
      "source": [
        "import requests\n",
        "import re\n",
        "import subprocess\n",
        "\n",
        "def get_client_id(soundcloud_track_url):\n",
        "    try:\n",
        "        response = requests.get(soundcloud_track_url)\n",
        "        response.raise_for_status()\n",
        "        html = response.text\n",
        "\n",
        "        js_urls = re.findall(r'https://a-v2\\.sndcdn\\.com/assets/.*?\\.js', html)\n",
        "        if not js_urls:\n",
        "            print(\"Could not find JS assets URL.\")\n",
        "            return None\n",
        "\n",
        "        js_url = js_urls[-1]\n",
        "        js_response = requests.get(js_url)\n",
        "        js_response.raise_for_status()\n",
        "        js_content = js_response.text\n",
        "\n",
        "        match = re.search(r'client_id\\s*:\\s*\"([a-zA-Z0-9]{32})\"', js_content)\n",
        "        if match:\n",
        "            return match.group(1)\n",
        "\n",
        "        match_alt = re.search(r'client_id\\s*=\\s*\"([a-zA-Z0-9]{32})\"', js_content)\n",
        "        if match_alt:\n",
        "            return match_alt.group(1)\n",
        "\n",
        "        print(\"client_id not found in JS file.\")\n",
        "        return None\n",
        "\n",
        "    except Exception as e:\n",
        "        print(\"Error fetching client_id:\", e)\n",
        "        return None\n",
        "\n",
        "\n",
        "def download_soundcloud_track(url, client_id):\n",
        "    try:\n",
        "        command = f'scdl -l \"{url}\" --client-id {client_id}'\n",
        "        print(\"Running command:\", command)\n",
        "        result = subprocess.run(command, shell=True, capture_output=True, text=True)\n",
        "\n",
        "        print(\"stdout:\\n\", result.stdout)\n",
        "        print(\"stderr:\\n\", result.stderr)\n",
        "\n",
        "    except Exception as e:\n",
        "        print(\"An error occurred:\", e)\n",
        "\n",
        "\n",
        "track_url = \"https://soundcloud.com/ARTISTNAME/SONGNAME\"       #Insert https link from soundcloud.\n",
        "client_id = get_client_id(track_url)\n",
        "print(\"Extracted client_id:\", client_id)\n",
        "download_soundcloud_track(track_url, client_id)                #Download in the same file you are running the code."
      ]
    }
  ]
}